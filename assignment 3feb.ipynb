{
 "cells": [
  {
   "cell_type": "code",
   "execution_count": null,
   "id": "2c4f288b-5728-4fe8-8c84-09c1af109fcf",
   "metadata": {},
   "outputs": [],
   "source": [
    "QUESTION 1 : def keyword is used to create a function.\n",
    "\n",
    "def odd_numbers():\n",
    "    l=[]\n",
    "    for i in range(1,26):\n",
    "        if i%2!=0:\n",
    "            l.append(i)\n",
    "    return l\n",
    "odd_numbers()"
   ]
  },
  {
   "cell_type": "code",
   "execution_count": null,
   "id": "c156f35e-699f-4744-9653-63065484a3a9",
   "metadata": {},
   "outputs": [],
   "source": [
    "QUESTION 2 : *args -> it is used to pass the multiple parameters during thge function call . it stores the parameters in tuple.\n",
    "             for example1 -> def example1(*args):\n",
    "                                  return args\n",
    "                            example1(1,2,3,4,\"rishi\",True)\n",
    "            output -> (1,2,3,4,'rishi',True)\n",
    "            for example -> def example2(*args , a):\n",
    "                                  return args , a\n",
    "                           example2(1,2,34,5, a=23)\n",
    "            output -> ((1,2,34,5),23)\n",
    "            \n",
    "            **kwargs -> it stores the given parameter in dictionary.\n",
    "            for example ->  def example(**kwargs):\n",
    "                                    return kwargs\n",
    "                            example(a = [11,22,33] ,b =\"rishi\" , c=4562 )\n",
    "            output -> {'a':[11,22,33],'b':'rishi','c':4562}\n",
    "                "
   ]
  },
  {
   "cell_type": "code",
   "execution_count": null,
   "id": "c7a184c4-baf7-4137-86d7-6365f7b5fc41",
   "metadata": {},
   "outputs": [],
   "source": [
    "QUESTION 3 : an iterator is used to iter over the collection of data .\n",
    "             iter() is used to initialise the iterator object .\n",
    "             next() is used for iteration . \n",
    "\n",
    "l=[2,4,6,8,10,12,14,16,18,20]\n",
    "l1=iter(l)\n",
    "range_1=range(1,6)\n",
    "for i in range_1:\n",
    "    print(next(l1))"
   ]
  },
  {
   "cell_type": "code",
   "execution_count": 9,
   "id": "124c5884-30ff-4967-94f7-49186713a9b6",
   "metadata": {},
   "outputs": [],
   "source": [
    "QUESTION 4:\n",
    "def prime_numbers(n):\n",
    "    for i in range(1,1001):\n",
    "        if i%1==0 and i%i==0:\n",
    "            yield i\n",
    "            print(next(i))\n",
    "c=prime_numbers(20)"
   ]
  },
  {
   "cell_type": "code",
   "execution_count": 10,
   "id": "4a234faf-5d79-487a-9f30-c9d559fdb9f3",
   "metadata": {},
   "outputs": [
    {
     "data": {
      "text/plain": [
       "<generator object prime_numbers at 0x7fd72053fc30>"
      ]
     },
     "execution_count": 10,
     "metadata": {},
     "output_type": "execute_result"
    }
   ],
   "source": [
    "c"
   ]
  },
  {
   "cell_type": "code",
   "execution_count": null,
   "id": "892e2020-c0d5-4396-a5ce-72e55cb54cf7",
   "metadata": {},
   "outputs": [],
   "source": [
    "QUESTION 7 : \n",
    "def list_comprehension():\n",
    "    s = \"pwskills\"\n",
    "    for i in s:\n",
    "        s1 = iter(s)\n",
    "    print(list(s1))\n",
    "list_comprehension()"
   ]
  },
  {
   "cell_type": "code",
   "execution_count": null,
   "id": "369a8be3-b055-4f2e-93f5-b4074f2c4c78",
   "metadata": {},
   "outputs": [],
   "source": [
    "QUESTION 8 :\n",
    "\n",
    "num = int(input(\"ENTER THE NUMBER = \"))\n",
    "reverse = 0\n",
    "while num > 0:\n",
    "    remainder = num % 10 \n",
    "    reverse = (reverse*10) + remainder\n",
    "    num = num // 10\n",
    "if num == reverse :\n",
    "    print(\"number is pallindrome\")\n",
    "else:\n",
    "    print(\"number is not pallindrome\")"
   ]
  },
  {
   "cell_type": "code",
   "execution_count": null,
   "id": "7487f737-2aa2-417a-a66c-1a00f9c18ab9",
   "metadata": {},
   "outputs": [],
   "source": [
    "QUESTION 9 :\n",
    "\n",
    "l = list(range(1,101))\n",
    "list(filter(lambda x : x%2!=0 , l ))"
   ]
  }
 ],
 "metadata": {
  "kernelspec": {
   "display_name": "Python 3 (ipykernel)",
   "language": "python",
   "name": "python3"
  },
  "language_info": {
   "codemirror_mode": {
    "name": "ipython",
    "version": 3
   },
   "file_extension": ".py",
   "mimetype": "text/x-python",
   "name": "python",
   "nbconvert_exporter": "python",
   "pygments_lexer": "ipython3",
   "version": "3.10.8"
  }
 },
 "nbformat": 4,
 "nbformat_minor": 5
}

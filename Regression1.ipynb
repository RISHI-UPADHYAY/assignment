{
 "cells": [
  {
   "cell_type": "markdown",
   "id": "56d6b5a2-e22b-464e-91d6-201839cbf6bd",
   "metadata": {},
   "source": [
    "REGRESSION 1"
   ]
  },
  {
   "cell_type": "code",
   "execution_count": null,
   "id": "72db7bce-6e8d-4077-9f75-643e2b63b1bd",
   "metadata": {},
   "outputs": [],
   "source": [
    "QUESTION 1 :\n",
    "    \n",
    "Simple linear regression has only one input (independent feature) and one output (dependent feature) . While multiple linear regression\n",
    "has one output (dependent feature) and two or more input (independent feature) . For example House pricing dataset is the example of \n",
    "multiple linear regression and height and weight dataset of students is an example of simple linear regression ."
   ]
  },
  {
   "cell_type": "code",
   "execution_count": null,
   "id": "0cabfebb-ac3e-47a9-a66b-af7be7173bf3",
   "metadata": {},
   "outputs": [],
   "source": [
    "QUESTION 2 :\n",
    "    \n",
    "The assumptions of linear regression are :\n",
    "(i) Linear relationship\n",
    "(ii) Autocorrelation\n",
    "(iii) Multicollinearity\n",
    "(iv) Multivariate normality\n",
    "(v) Homoscedasticity\n",
    "(vi) Normal Distribution of residuals\n",
    "(vii) Residual errors having constant variable"
   ]
  },
  {
   "cell_type": "code",
   "execution_count": null,
   "id": "a4146a3d-7390-4f1d-a6e7-c56fdeaf43f4",
   "metadata": {},
   "outputs": [],
   "source": [
    "QUESTION 3 :\n",
    "    \n",
    "The slope indicates the steepness of a line and the intercept indicates the location where it intersects an axis .\n",
    "The formula is : y = mx + c where m is the slope and c is the intercept."
   ]
  },
  {
   "cell_type": "code",
   "execution_count": null,
   "id": "e6cc5811-2552-4ec7-afc4-464c1aa34e64",
   "metadata": {},
   "outputs": [],
   "source": [
    "QUESTION 4 :\n",
    "    \n",
    "Gradient descent is an optimization algorithm which is commonly used to train machine learning models and neural networks .\n",
    "Working :\n",
    "(i) Learning rate (also reffered as step size or the alpha ) is the size of the steps that are taken to reach the minimum.\n",
    "(ii) The cost (or loss) function measures the difference , or error , between actual y and predicted y at its current position ."
   ]
  },
  {
   "cell_type": "code",
   "execution_count": null,
   "id": "f94930a4-b61d-432f-acb3-6b9a89924e36",
   "metadata": {},
   "outputs": [],
   "source": [
    "QUESTION 5 :\n",
    "    \n",
    "Multiple linear regression has one output (dependent feature) and two or more input (independent feature) . While simple linear regression\n",
    "has only one input and one output feature ."
   ]
  },
  {
   "cell_type": "code",
   "execution_count": null,
   "id": "c40e6f3b-85d0-427b-a70f-8403f8f76b62",
   "metadata": {},
   "outputs": [],
   "source": [
    "QUESTION 6 :\n",
    "    \n",
    "Multicollenearity occurs when two or more independent variables in a data frame have a high correlation with one another in a regression\n",
    "model.\n",
    "Addressing muticollinearity :\n",
    "(i) Removing variables\n",
    "(ii) Using more data\n",
    "(iii) Using techniques such as partial least squares regression (PLS) and principal component analysis (PCA)."
   ]
  },
  {
   "cell_type": "code",
   "execution_count": null,
   "id": "89f39e87-91ef-4e18-b6cc-ce0014829291",
   "metadata": {},
   "outputs": [],
   "source": [
    "QUESTION 7 :\n",
    "    \n",
    "A polynomial regression model is a machine learning model that can capture non linear relationships between vaariables by fitting a non\n",
    "linear regression line . While linear regression only deals with linear relationships ."
   ]
  },
  {
   "cell_type": "code",
   "execution_count": null,
   "id": "346a427e-b9c9-4bb6-9e10-818954c9102f",
   "metadata": {},
   "outputs": [],
   "source": [
    "QUESTION 8 :\n",
    "    \n",
    "Advantages : (i) Polynomial provides the best approximation of the relationship between the dependent and independent variable .\n",
    "             (ii) A braod range of functions can be fit under it .\n",
    "Disadvantages : (i) One or two outliers in the data might have a significant impact on the non linear analysis outcomes .\n",
    "                (ii) There are fewer model validation methods for detecting outliers in polynomial regression than in linear regression"
   ]
  }
 ],
 "metadata": {
  "kernelspec": {
   "display_name": "Python 3 (ipykernel)",
   "language": "python",
   "name": "python3"
  },
  "language_info": {
   "codemirror_mode": {
    "name": "ipython",
    "version": 3
   },
   "file_extension": ".py",
   "mimetype": "text/x-python",
   "name": "python",
   "nbconvert_exporter": "python",
   "pygments_lexer": "ipython3",
   "version": "3.10.8"
  }
 },
 "nbformat": 4,
 "nbformat_minor": 5
}

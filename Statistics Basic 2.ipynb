{
 "cells": [
  {
   "cell_type": "markdown",
   "id": "2461b958-fe13-4bd6-b236-1861adf8b1c4",
   "metadata": {},
   "source": [
    "STATISTICS BASIC 2"
   ]
  },
  {
   "cell_type": "code",
   "execution_count": null,
   "id": "c1339d45-69cc-4fc2-a948-5f7271981f0b",
   "metadata": {},
   "outputs": [],
   "source": [
    "QUESTION 1 :\n",
    "\n",
    "THE THREE MEASURES OF CENTRAL TENDENCY ARE MEAN , MEDIAN AND MODE."
   ]
  },
  {
   "cell_type": "code",
   "execution_count": null,
   "id": "d39e48ed-8c95-4142-a3e2-85c8ac6f3b6c",
   "metadata": {},
   "outputs": [],
   "source": [
    "QUESTION 2 :\n",
    "    \n",
    " Mean is the average value of the given observations. Median is the middle value of the given observations. Mode is the most repeated value in the given observation."
   ]
  },
  {
   "cell_type": "code",
   "execution_count": null,
   "id": "0d3f97f9-1485-414d-9788-ee0fca4a3ac3",
   "metadata": {},
   "outputs": [],
   "source": [
    "QUESTION 3 :\n",
    "\n",
    "height_data =  [178,177,176,177,178.2,178,175,179,180,175,178.9,176.2,177,172.5,178,176.5] \n",
    "import numpy as ny\n",
    "ny.mean(height_data)    #for mean\n",
    "ny.median(height_data)  #for median\n",
    "from scipy import stats #for mode\n",
    "stats.mode(height_data)  #for mode"
   ]
  },
  {
   "cell_type": "code",
   "execution_count": null,
   "id": "3874ecd5-9d89-4825-b70c-e07102fe5ed9",
   "metadata": {},
   "outputs": [],
   "source": [
    "QUESTION 4 :\n",
    "\n",
    "data =  [178,177,176,177,178.2,178,175,179,180,175,178.9,176.2,177,172.5,178,176.5] \n",
    "import numpy as ny\n",
    "ny.std(data)"
   ]
  },
  {
   "cell_type": "code",
   "execution_count": null,
   "id": "8178b347-3a02-45e2-9b7b-eb1ac55cc87c",
   "metadata": {},
   "outputs": [],
   "source": [
    "QUESTION 6 ;\n",
    "\n",
    "Venn diagram an illustration that uses circles to show thw relationships among things or finite group of things ."
   ]
  },
  {
   "cell_type": "code",
   "execution_count": null,
   "id": "0bdc5c0e-da2a-42a4-b21a-3b9ef15ddbda",
   "metadata": {},
   "outputs": [],
   "source": [
    "QUESTION 7 :\n",
    "    \n",
    "A = (2,3,4,5,6,7) & B = (0,2,6,8,10)\n",
    "(i) (2,6)\n",
    "(ii) (0,2,3,4,5,6,7,8,10)"
   ]
  },
  {
   "cell_type": "code",
   "execution_count": null,
   "id": "da460be0-9b78-47ac-a206-26a0eca19e11",
   "metadata": {},
   "outputs": [],
   "source": [
    "QUESTION 8 :\n",
    "    \n",
    "Skewness is a measurement of the distortioin of symmetrical distribution or asymmetry in a data set ."
   ]
  },
  {
   "cell_type": "code",
   "execution_count": null,
   "id": "144fbf70-c67a-4132-8e07-ec76b56edff7",
   "metadata": {},
   "outputs": [],
   "source": [
    "QUESTION 9 :\n",
    "    \n",
    "In a right skewed data mean>+median>=mode ."
   ]
  },
  {
   "cell_type": "code",
   "execution_count": null,
   "id": "dc146c06-b177-4a31-af23-b63bd84e05e9",
   "metadata": {},
   "outputs": [],
   "source": [
    "QUESTION 10 :\n",
    "    \n",
    "Covariance describes the extent to which one variable is related to another whereas correlation states how strongly the given two random \n",
    "variables are related to each other ."
   ]
  },
  {
   "cell_type": "code",
   "execution_count": null,
   "id": "9fa5a44c-65d0-4480-8453-6fc4fcf2e6c1",
   "metadata": {},
   "outputs": [],
   "source": [
    "QUESTION 11 :\n",
    "    \n",
    "Sample mean = summation xi/n"
   ]
  },
  {
   "cell_type": "code",
   "execution_count": null,
   "id": "68f9af79-ed99-48da-9636-76324ee323e8",
   "metadata": {},
   "outputs": [],
   "source": [
    "QUESTION 12 :\n",
    "    \n",
    "For a normaL distributed data mean = median = mode ."
   ]
  },
  {
   "cell_type": "code",
   "execution_count": null,
   "id": "50733492-cbb2-4c04-8f82-7c043c2639a1",
   "metadata": {},
   "outputs": [],
   "source": [
    "QUESTION 13 :\n",
    "    \n",
    "Covariance describes the extent to which one variable is related to another whereas correlation states how strongly the given two random \n",
    "variables are related to each other ."
   ]
  },
  {
   "cell_type": "code",
   "execution_count": null,
   "id": "22d0d3cd-f9d9-4c8e-be2b-142b9742e584",
   "metadata": {},
   "outputs": [],
   "source": [
    "QUESTION 14 :\n",
    "    \n",
    "In the case of measure of central tendency outliers affect the mean value of the data but have little effect on the median or mode of a given data set\n",
    "while in case of dipersion outliers can give misleading impressions of a data set if the set contains one or more outliers ."
   ]
  }
 ],
 "metadata": {
  "kernelspec": {
   "display_name": "Python 3 (ipykernel)",
   "language": "python",
   "name": "python3"
  },
  "language_info": {
   "codemirror_mode": {
    "name": "ipython",
    "version": 3
   },
   "file_extension": ".py",
   "mimetype": "text/x-python",
   "name": "python",
   "nbconvert_exporter": "python",
   "pygments_lexer": "ipython3",
   "version": "3.10.8"
  }
 },
 "nbformat": 4,
 "nbformat_minor": 5
}

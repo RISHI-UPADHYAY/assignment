{
 "cells": [
  {
   "cell_type": "markdown",
   "id": "86700da3-3cc7-434a-bf87-1278ae049d57",
   "metadata": {},
   "source": [
    "NUMPY BASIC"
   ]
  },
  {
   "cell_type": "code",
   "execution_count": null,
   "id": "b3bd04ee-8e13-4c52-98db-f05703ab014f",
   "metadata": {},
   "outputs": [],
   "source": [
    "QUESTION 1 :\n",
    "    \n",
    "YES, there is a difference between the data type of variables list_ and array_list .\n",
    "type(list_)   # this will give a list data type\n",
    "type(array_list) #this will give ndarray data type"
   ]
  },
  {
   "cell_type": "code",
   "execution_count": null,
   "id": "25104771-44eb-4eae-8423-90f5f2c93cbc",
   "metadata": {},
   "outputs": [],
   "source": [
    "QUESTION 2 :\n",
    "    \n",
    "for i in list_ :\n",
    "    print(type(i))\n",
    "    \n",
    "for i in array_list:\n",
    "    print(type(i))"
   ]
  },
  {
   "cell_type": "code",
   "execution_count": null,
   "id": "a0c51f3c-3fac-4a60-8184-66598fd74eb8",
   "metadata": {},
   "outputs": [],
   "source": [
    "QUESTION 3 :\n",
    "\n",
    "arra_list = np.array(object = list_, dtype = int)\n",
    "YES, there is a difference between the data type of variables list_ and arra_list .\n",
    "for i in list_ :\n",
    "    print(type(i))\n",
    "    \n",
    "for i in arra_list:\n",
    "    print(type(i))"
   ]
  },
  {
   "cell_type": "code",
   "execution_count": null,
   "id": "ad101098-1f23-499a-9e7e-a9f284a1c084",
   "metadata": {},
   "outputs": [],
   "source": []
  }
 ],
 "metadata": {
  "kernelspec": {
   "display_name": "Python 3 (ipykernel)",
   "language": "python",
   "name": "python3"
  },
  "language_info": {
   "codemirror_mode": {
    "name": "ipython",
    "version": 3
   },
   "file_extension": ".py",
   "mimetype": "text/x-python",
   "name": "python",
   "nbconvert_exporter": "python",
   "pygments_lexer": "ipython3",
   "version": "3.10.8"
  }
 },
 "nbformat": 4,
 "nbformat_minor": 5
}

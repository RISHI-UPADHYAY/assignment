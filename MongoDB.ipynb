{
 "cells": [
  {
   "cell_type": "markdown",
   "id": "fe4c8182-0129-4add-804e-1140435d5850",
   "metadata": {},
   "source": [
    "MONGO DB ASSIGNMENT"
   ]
  },
  {
   "cell_type": "code",
   "execution_count": null,
   "id": "bf90aef7-01c4-4dac-af62-9e41c78e3c39",
   "metadata": {},
   "outputs": [],
   "source": [
    "QUESTION 1 :\n",
    "    \n",
    "MongoDB is a non relational document database that provides support for JSON like storage . A non relational database is a database that does not use\n",
    "the tabular schema of rows and columns . It is preffered to use MongoDB over SQL when our data is unstructured and complex or if we can't predefine\n",
    "our schema . "
   ]
  },
  {
   "cell_type": "code",
   "execution_count": null,
   "id": "2939ed68-01d2-4489-ba9b-8e22c632d7a1",
   "metadata": {},
   "outputs": [],
   "source": [
    "QUESTION 2 :\n",
    "    \n",
    "(i) MongoDB is a schema less database which means the database can manage without the need for a blueprint .\n",
    "(ii) Data in MongoDB is stored in documents with key value pairs instead of rows and columns which makes the data more flexible when compared to SQL ."
   ]
  },
  {
   "cell_type": "code",
   "execution_count": null,
   "id": "c996af24-55cf-4816-b5f4-2d28f4489e26",
   "metadata": {},
   "outputs": [],
   "source": [
    "QUESTION 3 :\n",
    "    \n",
    "pip install pymongo\n",
    "import pymongo\n",
    "client = pymongo.MongoClient(\"mongodb+srv://RISHIUPADHYAY:RISHIUPADHYAY @cluster0.6ll8whk.mongodb.net/?retryWrites=true&w=majority\")\n",
    "db = client.test\n",
    "db = client['database']\n",
    "collection = db['records']\n",
    "data = {\"name\" : \"abc\" , \"id\" : 123}\n",
    "collection.insert_one(data)"
   ]
  },
  {
   "cell_type": "code",
   "execution_count": null,
   "id": "afd4d834-5af0-40fa-9981-9bdafb007c53",
   "metadata": {},
   "outputs": [],
   "source": [
    "QUESTION 4 :\n",
    "    \n",
    "data1 = [{\"name\" : \"abc\" , \"id\" : 123 } , {\"name\" : \"xyz\" , \"id\" : 234}]\n",
    "collection.insert_one(data)\n",
    "collection.insert_many(data1)\n",
    "for i in collection.find():\n",
    "    print(i)\n",
    "collection.find_one()"
   ]
  },
  {
   "cell_type": "code",
   "execution_count": null,
   "id": "f9470290-8f0e-43ce-804c-c8eaf4b9acd4",
   "metadata": {},
   "outputs": [],
   "source": [
    "QUESTION 5 :\n",
    "    \n",
    "find() method is used to print all the records in a database.\n",
    "for i in collection.find():\n",
    "    print(i)"
   ]
  },
  {
   "cell_type": "code",
   "execution_count": null,
   "id": "643343bf-9a14-400c-a133-7efb9352e140",
   "metadata": {},
   "outputs": [],
   "source": [
    "QUESTION 6 :\n",
    "    \n",
    "sort() method in MongoDB is used to sort the records in a database .\n",
    "db.collection.sort({records_needed_to_be_sorted})"
   ]
  },
  {
   "cell_type": "code",
   "execution_count": null,
   "id": "7c51e418-c107-4f55-85ad-59af952460c6",
   "metadata": {},
   "outputs": [],
   "source": [
    "QUESTION 7 :\n",
    "    \n",
    "delete_one() is use to delete one record from the database.\n",
    "delete_many() is use to delete multiple records from the database.\n",
    "drop() is use to delete the database ."
   ]
  }
 ],
 "metadata": {
  "kernelspec": {
   "display_name": "Python 3 (ipykernel)",
   "language": "python",
   "name": "python3"
  },
  "language_info": {
   "codemirror_mode": {
    "name": "ipython",
    "version": 3
   },
   "file_extension": ".py",
   "mimetype": "text/x-python",
   "name": "python",
   "nbconvert_exporter": "python",
   "pygments_lexer": "ipython3",
   "version": "3.10.8"
  }
 },
 "nbformat": 4,
 "nbformat_minor": 5
}

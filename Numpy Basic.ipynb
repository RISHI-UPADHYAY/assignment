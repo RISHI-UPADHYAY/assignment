{
 "cells": [
  {
   "cell_type": "markdown",
   "id": "46f51da8-7963-436f-b23a-f190fe9dfb2e",
   "metadata": {},
   "source": [
    "NUMPY BASIC"
   ]
  },
  {
   "cell_type": "code",
   "execution_count": 1,
   "id": "c50bd015-339e-46bb-98f5-463018c57af2",
   "metadata": {},
   "outputs": [],
   "source": 
   ]
  },
  {
   "cell_type": "code",
   "execution_count": 5,
   "id": "b6afcf7b-2b16-4f56-94c6-6ddf2d70aa9b",
   "metadata": {},
   "outputs": [
    {
     "name": "stdout",
     "output_type": "stream",
     "text": [
     ]
    }
   ],
   "source": [
  
   ]
  },
  {
   "cell_type": "code",
   "execution_count": 7,
    "QUESTION 1 :\n",
    "    \n",
    "YES, there is a difference between the data type of variables list_ and array_list .\n",
    "type(list_)   # this will give a list data type\n",
    "type(array_list) #this will give ndarray data type"
   ]
  },
  {
   "cell_type": "code",
   "execution_count": null,
   "id": "b5052b9e-11e6-49e1-ab9b-f53cd998f172",
   "metadata": {},
   "outputs": [],
   "source": [
    "QUESTION 2 :\n",
    "    \n",
    "for i in list_ :\n",
    "    print(type(i))\n",
    "    \n",
    "for i in array_list:\n",
    "    print(type(i))"
   ]
  },
  {
   "cell_type": "code",
   "execution_count": null,
   "id": "98198f9a-1cca-4dd3-a29b-10fd47f33c35",
   "metadata": {},
   "outputs": [],
   "source": [
    "QUESTION 3 :\n",
    "\n",
    "arra_list = np.array(object = list_, dtype = int)\n",
    "YES, there is a difference between the data type of variables list_ and arra_list .\n",
    "for i in list_ :\n",
    "    print(type(i))\n",
    "    \n",
    "for i in arra_list:\n",
    "    print(type(i))"
   ]
  },
  {
   "cell_type": "code",
   "execution_count": null,
   "id": "00a86312-b974-48fb-8df2-099f7d7145ea",
   "metadata": {},
   "outputs": [],
   "source": [
    "QUESTION 4 :\n",
    "    \n",
    "import numpy as np\n",
    "num_list = [ [ 1 , 2 , 3 ] , [ 4 , 5 , 6 ] ]\n",
    "num_array = np.array(object = num_list)\n",
    "\n",
    "(i) np.shape(num_array)\n",
    "(ii) np.size(num_array)"
   ]
  },
  {
   "cell_type": "code",
   "execution_count": null,
   "id": "830bf9f9-cad6-4859-aa79-2126ceef1d02",
   "metadata": {},
   "outputs": [],
   "source": [
    "QUESTION 5 :\n",
    "    \n",
    "import numpy as np\n",
    "null_matrix = np.array([\n",
    "    [0,0,0],\n",
    "    [0,0,0],\n",
    "    [0,0,0]\n",
    "])\n",
    "null_matrix"
   ]
  },
  {
   "cell_type": "code",
   "execution_count": null,
   "id": "bd8ea09d-416d-488b-b008-3a531816a3d9",
   "metadata": {},
   "outputs": [],
   "source": [
    "QUESTION 6 :\n",
    "    \n",
    "import numpy as np\n",
    "identity_matrix = np.identity(5)\n",
    "identity_matrix"
   ]
  }
 ],
 "metadata": {
  "kernelspec": {
   "display_name": "Python 3 (ipykernel)",
   "language": "python",
   "name": "python3"
  },
  "language_info": {
   "codemirror_mode": {
    "name": "ipython",
    "version": 3
   },
   "file_extension": ".py",
   "mimetype": "text/x-python",
   "name": "python",
   "nbconvert_exporter": "python",
   "pygments_lexer": "ipython3",
   "version": "3.10.8"
  }
 },
 "nbformat": 4,
 "nbformat_minor": 5
}

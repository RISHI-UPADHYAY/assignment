{
 "cells": [
  {
   "cell_type": "markdown",
   "id": "3651f536-9c71-49dc-86cf-965ad09584b8",
   "metadata": {},
   "source": [
    "MY SQL"
   ]
  },
  {
   "cell_type": "code",
   "execution_count": null,
   "id": "196e135a-48c9-4eec-8758-48424f7e3c7a",
   "metadata": {},
   "outputs": [],
   "source": [
    "QUESTION 1 :\n",
    "    \n",
    "A database is an organized collection of structured information or data typically stored electronically in a computer system.\n",
    "SQL databases are relational and NoSQL databases are non relational . SQL is best suitable for complex queries , multi row transaction while NoSQL\n",
    "is best suited for unstructured data ."
   ]
  },
  {
   "cell_type": "code",
   "execution_count": null,
   "id": "40578273-b07a-4233-b691-990e61f9f99d",
   "metadata": {},
   "outputs": [],
   "source": [
    "QUESTION 2 :\n",
    "    \n",
    "DDL stands for Data Definition Language . It is a language used for describing data and its relationships in a database .\n",
    "CREATE : The CREATE is used to process the source file and create a command definition object.\n",
    "DROP : DROP is used to eliminate existing complications and fewer complications in the whole database from the table .\n",
    "ALTER : ALTER command in SQL is used to make changes to a table , view or the entire database.\n",
    "TRUNCATE : The TRUNCATE command is used to remove all of the rows from a table regardless of whether or not any conditions are met and resets the table\n",
    "definition."
   ]
  },
  {
   "cell_type": "code",
   "execution_count": null,
   "id": "c5f17c0a-ceb4-4ef0-b7bf-0821c97c8b66",
   "metadata": {},
   "outputs": [],
   "source": [
    "QUESTION 3 :\n",
    "    \n",
    "DML stands for Data Manipulation Language . It refers to a computer programming language that allows you to add , delete and update data in database.\n",
    "INSERT : The INSERT command is used for inserting one or more rows into a database table with specified table column values .\n",
    "UPDATE : The UPDATE command is used to modify or change the existing records in a table .\n",
    "DELETE : The DELETE statement is used to delete existing records in a table ."
   ]
  },
  {
   "cell_type": "code",
   "execution_count": null,
   "id": "abf71bff-1cad-4e92-b98a-74ab285c123f",
   "metadata": {},
   "outputs": [],
   "source": [
    "QUESTION 4 :\n",
    "    \n",
    "DQL stands for Data Query Language . It is a computer language that is used to make various queries in information systems and databases .\n",
    "The SQL SELECT statement returns a result set of records from one or more tables . "
   ]
  },
  {
   "cell_type": "code",
   "execution_count": null,
   "id": "f8028094-4f8d-4092-a400-960ba1fe63f4",
   "metadata": {},
   "outputs": [],
   "source": [
    "QUESTION 5 :\n",
    "    \n",
    "A primary key is used to ensure data in the specific column is unique . A foreign key is a column or group of columns in a relational database table\n",
    "that provides a link between data in two tables ."
   ]
  },
  {
   "cell_type": "code",
   "execution_count": null,
   "id": "96303800-316d-4313-8c3f-849a085a88d9",
   "metadata": {},
   "outputs": [],
   "source": [
    "QUESTION 6 :\n",
    "    \n",
    "import mysql.connector\n",
    "mydb = mysql.connector.connect(host = \"localhost\" , user = \"abc\" , password = \"password\")\n",
    "print(mydb)\n",
    "mycursor = mydb.cursor()\n",
    "mycursor.execute(\"SHOW DATABASES\")\n",
    "for x in mycursor():\n",
    "    print(x)\n",
    "    \n",
    "Cursor is a temporary memory or temporary work station . It is alloted by database server at the time of performing DML operations.\n"
   ]
  },
  {
   "cell_type": "code",
   "execution_count": null,
   "id": "b6f79e56-986e-4462-b430-da7b7b623c9d",
   "metadata": {},
   "outputs": [],
   "source": [
    "QUESTION 7 :\n",
    "    \n",
    "FROM/JOIN\n",
    "WHERE\n",
    "GROUP BY\n",
    "HAVING\n",
    "SELECT\n",
    "ORDER BY\n",
    "LIMIT / OFFSET"
   ]
  }
 ],
 "metadata": {
  "kernelspec": {
   "display_name": "Python 3 (ipykernel)",
   "language": "python",
   "name": "python3"
  },
  "language_info": {
   "codemirror_mode": {
    "name": "ipython",
    "version": 3
   },
   "file_extension": ".py",
   "mimetype": "text/x-python",
   "name": "python",
   "nbconvert_exporter": "python",
   "pygments_lexer": "ipython3",
   "version": "3.10.8"
  }
 },
 "nbformat": 4,
 "nbformat_minor": 5
}

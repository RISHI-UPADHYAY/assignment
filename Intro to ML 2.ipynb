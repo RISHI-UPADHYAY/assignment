{
 "cells": [
  {
   "cell_type": "markdown",
   "id": "14786ff5-83e6-4449-95e6-1fb5c5ad0fbb",
   "metadata": {},
   "source": [
    "INTRODUCTION TO MACHINE LEARNING - 2"
   ]
  },
  {
   "cell_type": "code",
   "execution_count": null,
   "id": "140d5959-8060-4d2b-a8d2-dc1a7857d6fb",
   "metadata": {},
   "outputs": [],
   "source": [
    "QUESTION 1 :\n",
    "    \n",
    "OVERFITTING - If the accuracy of model is high in training dataset but it becomes low in test dataset then this type of situation is called overfitting\n",
    "It is considered as a veery bad situation because model cannot be biased with training dataset.\n",
    "\n",
    "UNDERFITTING - If the accuracy of model is low in training dataset and it also remains low in test dataset then this type of situation is called \n",
    "underfitting."
   ]
  },
  {
   "cell_type": "code",
   "execution_count": null,
   "id": "b0d6a004-26f1-4c63-a818-c9b547da21fe",
   "metadata": {},
   "outputs": [],
   "source": [
    "QUESTION 2 :\n",
    "    \n",
    "We can reduce overfitting by using resampling technique to estimate model accuracy . "
   ]
  },
  {
   "cell_type": "code",
   "execution_count": null,
   "id": "272a8757-3155-4629-8262-407b92c2b038",
   "metadata": {},
   "outputs": [],
   "source": [
    "QUESTION 3 :\n",
    "    \n",
    "If the accuracy of model is low in training dataset and it also remains low in test dataset then this type of situation is called \n",
    "underfitting.It the destroy the accuracy of our model.\n",
    "Scenarios when underfitting can occur are as follows :\n",
    "(i) The size of the training dataset used is not enough.\n",
    "(ii) The model is too simple .\n",
    "(iii) High bias and low variance ."
   ]
  },
  {
   "cell_type": "code",
   "execution_count": null,
   "id": "60607b98-8397-4bcb-8eda-7345041c1f82",
   "metadata": {},
   "outputs": [],
   "source": [
    "QUESTION 4 :\n",
    "    \n",
    "Bias - Assunptions made by a model to make a function easier to learn . It is actually the error rate of the training data . When the error rate has \n",
    "high value , we call it high bias and when the error rate has low value , we call it as low bias .\n",
    "\n",
    "Variance : The difference between the error rate of the training data and testing data is called variance . If the difference is high we called it as\n",
    "high variance and when difference in error is low then it is called as low variance .\n",
    "\n",
    "Bias and Variance are inversely connected .\n",
    "Finding the right balance of Bias and Variance is key to creating an effective and accurate model."
   ]
  },
  {
   "cell_type": "code",
   "execution_count": null,
   "id": "d41c562d-b536-48d3-8e9c-4601789ad1c3",
   "metadata": {},
   "outputs": [],
   "source": [
    "QUESTION 5 :\n",
    "    \n",
    "The best method to detect that whether a model is overfitting or underfitting by looking at the prediction error on the training data and the \n",
    "evaluation data .\n",
    "If our model is low Bias and has high Variance then it is considered as overfitting and if our model is high Bias and has high Variance then it is\n",
    "considered as underfitting ."
   ]
  },
  {
   "cell_type": "code",
   "execution_count": null,
   "id": "caef568b-7f47-46bd-879f-11cdc7036fad",
   "metadata": {},
   "outputs": [],
   "source": [
    "QUESTION 6 :\n",
    "    \n",
    "Bias - Assunptions made by a model to make a function easier to learn . It is actually the error rate of the training data . When the error rate has \n",
    "high value , we call it high bias and when the error rate has low value , we call it as low bias .\n",
    "\n",
    "Variance : The difference between the error rate of the training data and testing data is called variance . If the difference is high we called it as\n",
    "high variance and when difference in error is low then it is called as low variance .\n",
    "\n",
    "It is typical to have high degrees of both . In high Bias and high variance predictions are inaccurate on average .  "
   ]
  },
  {
   "cell_type": "code",
   "execution_count": null,
   "id": "b8b547a3-ac4a-4b25-896c-c421cb8d368f",
   "metadata": {},
   "outputs": [],
   "source": [
    "QUESTION 7 :\n",
    "    \n",
    "Refularization refers to techniques that are used to calibrate machine learning models in order to minimize the adjusted loss function and prevent \n",
    "overfitting or underfitting . Regularization adds penalties to the parameters and avoids them weigh heavily .\n",
    "\n",
    "Some common regularization techniques are :\n",
    "()"
   ]
  }
 ],
 "metadata": {
  "kernelspec": {
   "display_name": "Python 3 (ipykernel)",
   "language": "python",
   "name": "python3"
  },
  "language_info": {
   "codemirror_mode": {
    "name": "ipython",
    "version": 3
   },
   "file_extension": ".py",
   "mimetype": "text/x-python",
   "name": "python",
   "nbconvert_exporter": "python",
   "pygments_lexer": "ipython3",
   "version": "3.10.8"
  }
 },
 "nbformat": 4,
 "nbformat_minor": 5
}

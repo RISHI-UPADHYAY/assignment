{
 "cells": [
  {
   "cell_type": "markdown",
   "id": "510fbd19-92d7-4884-b3fc-c2c0272f0b94",
   "metadata": {},
   "source": [
    "WEB API"
   ]
  },
  {
   "cell_type": "code",
   "execution_count": null,
   "id": "f8bffaa3-cbb2-41cb-807b-aa05a8916384",
   "metadata": {},
   "outputs": [],
   "source": [
    "QUESTION 1 :\n",
    "    \n",
    "API stands for Application Programming Interface . It is a mechanism that enables two software components to communicate with each other using a set\n",
    "of protocols . \n",
    "FOR EXAMPLE : The weather bureau software system contains daily weather data . The weather app on phone talks to this system via API ."
   ]
  },
  {
   "cell_type": "code",
   "execution_count": null,
   "id": "d6b0aae9-9894-4c6c-b43d-de2740f9fb18",
   "metadata": {},
   "outputs": [],
   "source": [
    "QUESTION 2 :\n",
    "    \n",
    "Advantages of API\n",
    "(i) Automation\n",
    "(ii) Efficiency\n",
    "(iii) Improved performance\n",
    "Disadvantages of API\n",
    "(i) Lacks in security\n",
    "(ii) Limited transfer protocol support\n",
    "(iii) The complexity of API integration"
   ]
  },
  {
   "cell_type": "code",
   "execution_count": null,
   "id": "1ff6311e-1c36-424f-b30f-090d5d0664ce",
   "metadata": {},
   "outputs": [],
   "source": [
    "QUESTION 3 :\n",
    "    \n",
    "A web API is an application programming interface for either a web server or a web browser . \n",
    "API allows applications to communicate , while web services allow machines to communicate . "
   ]
  },
  {
   "cell_type": "code",
   "execution_count": null,
   "id": "f72eedc7-a5f8-480a-b90e-05981d98b148",
   "metadata": {},
   "outputs": [],
   "source": [
    "QUESTION 4 :\n",
    "    \n",
    "The SOAP approach is highly structured and uses XML data format . REST is more flexible and allows applications to exchange data in multiple formats .\n",
    "SOAP is slow and consume more bandwith and resource ."
   ]
  },
  {
   "cell_type": "code",
   "execution_count": null,
   "id": "2240e9d7-542c-4e4f-b1c1-b8ce50cc4f04",
   "metadata": {},
   "outputs": [],
   "source": [
    "QUESTION 5 :\n",
    "    \n",
    "SOAP uses only XML for exchanging information in its message format whereas REST is not restricted to XML and its the choice of implementer which\n",
    "media type to use like XML , JSON , Plain-text."
   ]
  }
 ],
 "metadata": {
  "kernelspec": {
   "display_name": "Python 3 (ipykernel)",
   "language": "python",
   "name": "python3"
  },
  "language_info": {
   "codemirror_mode": {
    "name": "ipython",
    "version": 3
   },
   "file_extension": ".py",
   "mimetype": "text/x-python",
   "name": "python",
   "nbconvert_exporter": "python",
   "pygments_lexer": "ipython3",
   "version": "3.10.8"
  }
 },
 "nbformat": 4,
 "nbformat_minor": 5
}

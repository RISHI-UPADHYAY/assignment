{
 "cells": [
  {
   "cell_type": "markdown",
   "id": "86700da3-3cc7-434a-bf87-1278ae049d57",
   "metadata": {},
   "source": [
    "NUMPY BASIC"
   ]
  },
  {
   "cell_type": "code",
   "execution_count": null,
   "id": "b3bd04ee-8e13-4c52-98db-f05703ab014f",
   "metadata": {},
   "outputs": [],
   "source": [
    "QUESTION 1 :\n",
    "    \n",
    "YES, there is a difference between the data type of variables list_ and array_list .\n",
    "type(list_)   # this will give a list data type\n",
    "type(array_list) #this will give ndarray data type"
   ]
  },
  {
   "cell_type": "code",
   "execution_count": null,
   "id": "25104771-44eb-4eae-8423-90f5f2c93cbc",
   "metadata": {},
   "outputs": [],
   "source": [
    "QUESTION 2 :\n",
    "    \n",
    "for i in list_ :\n",
    "    print(type(i))\n",
    "    \n",
    "for i in array_list:\n",
    "    print(type(i))"
   ]
  },
  {
   "cell_type": "code",
   "execution_count": null,
   "id": "a0c51f3c-3fac-4a60-8184-66598fd74eb8",
   "metadata": {},
   "outputs": [],
   "source": [
    "QUESTION 3 :\n",
    "\n",
    "arra_list = np.array(object = list_, dtype = int)\n",
    "YES, there is a difference between the data type of variables list_ and arra_list .\n",
    "for i in list_ :\n",
    "    print(type(i))\n",
    "    \n",
    "for i in arra_list:\n",
    "    print(type(i))"
   ]
  },
  {
   "cell_type": "code",
   "execution_count": null,
   "id": "ad101098-1f23-499a-9e7e-a9f284a1c084",
   "metadata": {},
   "outputs": [],
   "source": [
    "QUESTION 4 :\n",
    "    \n",
    "import numpy as np\n",
    "num_list = [ [ 1 , 2 , 3 ] , [ 4 , 5 , 6 ] ]\n",
    "num_array = np.array(object = num_list)\n",
    "\n",
    "(i) np.shape(num_array)\n",
    "(ii) np.size(num_array)"
   ]
  },
  {
   "cell_type": "code",
   "execution_count": null,
   "id": "7ce39ba9-d40c-4d9b-8980-bc6faf64a7f6",
   "metadata": {},
   "outputs": [],
   "source": [
    "QUESTION 5 :\n",
    "    \n",
    "import numpy as np\n",
    "null_matrix = np.array([\n",
    "    [0,0,0],\n",
    "    [0,0,0],\n",
    "    [0,0,0]\n",
    "])\n",
    "null_matrix"
   ]
  },
  {
   "cell_type": "code",
   "execution_count": null,
   "id": "ab0a1e2f-78a2-401c-b4ea-9074b8801876",
   "metadata": {},
   "outputs": [],
   "source": [
    "QUESTION 6 :\n",
    "    \n",
    "import numpy as np\n",
    "identity_matrix = np.identity(5)\n",
    "identity_matrix"
   ]
  }
 ],
 "metadata": {
  "kernelspec": {
   "display_name": "Python 3 (ipykernel)",
   "language": "python",
   "name": "python3"
  },
  "language_info": {
   "codemirror_mode": {
    "name": "ipython",
    "version": 3
   },
   "file_extension": ".py",
   "mimetype": "text/x-python",
   "name": "python",
   "nbconvert_exporter": "python",
   "pygments_lexer": "ipython3",
   "version": "3.10.8"
  }
 },
 "nbformat": 4,
 "nbformat_minor": 5
}

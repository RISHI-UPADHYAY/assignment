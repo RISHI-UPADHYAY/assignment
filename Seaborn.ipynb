{
 "cells": [
  {
   "cell_type": "markdown",
   "id": "a2fe78a2-2af5-440c-a6a4-25dff0cc0ba6",
   "metadata": {},
   "source": [
    "SEABORN"
   ]
  },
  {
   "cell_type": "code",
   "execution_count": null,
   "id": "75d8469a-7dff-465c-adf3-1c69ed6c4a04",
   "metadata": {},
   "outputs": [],
   "source": [
    "QUESTION 1 :\n",
    "    \n",
    "The five plots that we can plot using seaborn library are :\n",
    "(i) Line plot\n",
    "(ii) Count plot\n",
    "(iii) Bar plot\n",
    "(iv) Histogram\n",
    "(v) Scatter plot"
   ]
  },
  {
   "cell_type": "code",
   "execution_count": null,
   "id": "3798ccb7-9d5d-47ff-9c9d-a35803406316",
   "metadata": {},
   "outputs": [],
   "source": [
    "QUESTION 2 :\n",
    "    \n",
    "import seaborn as sns \n",
    "data_set = sns.load_dataset('fmri')\n",
    "sns.lineplot(data = data_set , x = \"timepoint\" , y = \"signal\" , hue = \"region\")"
   ]
  },
  {
   "cell_type": "code",
   "execution_count": null,
   "id": "dc134a08-28d5-47fb-932c-ffa3e9a7eee6",
   "metadata": {},
   "outputs": [],
   "source": [
    "QUESTION 3 :\n",
    "    \n",
    "import seaborn as sns \n",
    "data_set = sns.load_dataset('titanic')\n",
    "box_1 = sns.boxplot(data = data_set , x = 'pclass', y= 'age')\n",
    "box_2 = sns.boxplot(data = data_set , x = 'pclass', y= 'fare')"
   ]
  },
  {
   "cell_type": "code",
   "execution_count": null,
   "id": "f48eaa31-4b32-4f4c-b174-a2ce6870acd8",
   "metadata": {},
   "outputs": [],
   "source": [
    "QUESTION 4 :\n",
    "    \n",
    "import seaborn as sns\n",
    "data_set = sns.load_dataset(\"diamonds\")\n",
    "sns.histplot(data = data_set , x = 'price' , hue = 'cut')"
   ]
  },
  {
   "cell_type": "code",
   "execution_count": null,
   "id": "61884a9d-b3cf-423c-955f-c171d44b6fca",
   "metadata": {},
   "outputs": [],
   "source": [
    "QUESTION 5 :\n",
    "    \n",
    "import seaborn as sns\n",
    "data_set = sns.load_dataset(\"iris\")\n",
    "sns.pairplot(data = data_set , hue =\"species\")"
   ]
  },
  {
   "cell_type": "code",
   "execution_count": null,
   "id": "160690b1-bddb-4ad1-af33-0d11d5aa56c1",
   "metadata": {},
   "outputs": [],
   "source": [
    "QUESTION 6 :\n",
    "\n",
    "import seaborn as sns \n",
    "data_set = sns.load_dataset(\"flights\")\n",
    "sns.heatmap(data = data_set) #it will show an error because it cannot convert string(month) to float"
   ]
  }
 ],
 "metadata": {
  "kernelspec": {
   "display_name": "Python 3 (ipykernel)",
   "language": "python",
   "name": "python3"
  },
  "language_info": {
   "codemirror_mode": {
    "name": "ipython",
    "version": 3
   },
   "file_extension": ".py",
   "mimetype": "text/x-python",
   "name": "python",
   "nbconvert_exporter": "python",
   "pygments_lexer": "ipython3",
   "version": "3.10.8"
  }
 },
 "nbformat": 4,
 "nbformat_minor": 5
}

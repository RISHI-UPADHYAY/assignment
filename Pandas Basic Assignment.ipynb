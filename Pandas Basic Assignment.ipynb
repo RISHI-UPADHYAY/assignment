{
 "cells": [
  {
   "cell_type": "markdown",
   "id": "88340c81-30eb-4f59-85bb-09cbec1be367",
   "metadata": {},
   "source": [
    "PANDAS BASIC ASSIGNMENT"
   ]
  },
  {
   "cell_type": "code",
   "execution_count": null,
   "id": "d5c9fc6b-4a73-488b-9a4b-56d39a9dc344",
   "metadata": {},
   "outputs": [],
   "source": [
    "QUESTION 1 :\n",
    "    \n",
    "import pandas as pd\n",
    "series = pd.Series([4,8,15,16,23,42])\n",
    "print(series)"
   ]
  },
  {
   "cell_type": "code",
   "execution_count": null,
   "id": "274e564f-7a7a-4a45-ac39-098dee958db7",
   "metadata": {},
   "outputs": [],
   "source": [
    "QUESTION 2 :\n",
    "    \n",
    "import pandas\n",
    "list_variable = [1,2,3,4,\"ABC\",True,33,4,\"EFG\",34,56]\n",
    "print(pandas.Series(list_variable))"
   ]
  },
  {
   "cell_type": "code",
   "execution_count": null,
   "id": "cf0a884b-008c-44c7-ad73-d1e404daad64",
   "metadata": {},
   "outputs": [],
   "source": [
    "QUESTION 3 :\n",
    "\n",
    "import pandas as pd\n",
    "data = {\"Name\" : [\"Alice\",\"Bob\",\"Clair\"] , \"Age\" : [25 , 30 , 27] , \"Gender\" : [\"Female\",\"Male\",\"Female\"] }\n",
    "df = pd.DataFrame(data)\n",
    "df"
   ]
  },
  {
   "cell_type": "code",
   "execution_count": null,
   "id": "335bff85-0f70-4734-8c12-d7857d601254",
   "metadata": {},
   "outputs": [],
   "source": [
    "QUESTION 4 :\n",
    "    \n",
    "Series is a 1D array or a list while DataFrame is a 2D array which contain rows and columns .\n",
    "FOR EXAMPLE :\n",
    "import pandas as pd\n",
    "data = [2,3,4,5,6,7,8,9]\n",
    "pd.Series(data)            #this will give a series(1D array) which is similar to a list including indexing also which is not there in a list\n",
    "pd.DataFrame(data)         #this will give a data frame which will have a structured data stored in the form of rows and columns "
   ]
  },
  {
   "cell_type": "code",
   "execution_count": null,
   "id": "cc28f6b6-2586-4dba-af21-575bd186dd86",
   "metadata": {},
   "outputs": [],
   "source": [
    "QUESTION 5 :\n",
    "    \n",
    "Some common functions that are used to manipulate data in Pandas DataFrame are\n",
    "df.head() , df.tail() , df.describe() , df.columns , df.value_counts , df.isnull and many more."
   ]
  },
  {
   "cell_type": "code",
   "execution_count": null,
   "id": "a16cd328-0eab-4afd-974e-6af4f96c8ee5",
   "metadata": {},
   "outputs": [],
   "source": [
    "QUESTION 6 :\n",
    "    \n",
    "Series is mutable in nature."
   ]
  },
  {
   "cell_type": "code",
   "execution_count": null,
   "id": "4edcc853-a719-4f86-9c5a-777c95565c5b",
   "metadata": {},
   "outputs": [],
   "source": [
    "\n",
    "\n",
    "import pandas as pd\n",
    "data = pd.Series([1,3,5,7,9],[2,4,6,8,10])\n",
    "df = pd.DataFrame(data)\n",
    "df"
   ]
  }
 ],
 "metadata": {
  "kernelspec": {
   "display_name": "Python 3 (ipykernel)",
   "language": "python",
   "name": "python3"
  },
  "language_info": {
   "codemirror_mode": {
    "name": "ipython",
    "version": 3
   },
   "file_extension": ".py",
   "mimetype": "text/x-python",
   "name": "python",
   "nbconvert_exporter": "python",
   "pygments_lexer": "ipython3",
   "version": "3.10.8"
  }
 },
 "nbformat": 4,
 "nbformat_minor": 5
}

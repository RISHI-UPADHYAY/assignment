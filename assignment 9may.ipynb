{
 "cells": [
  {
   "cell_type": "code",
   "execution_count": null,
   "id": "0071078c-f483-452e-825f-813904b26470",
   "metadata": {},
   "outputs": [],
   "source": [
    "QUESTION 1 :\n",
    "\n",
    "(i) string_1 = \"RISHI UPADHYAY\"\n",
    "(ii) list_1 = [1,2,3,4,5,8]\n",
    "(iii) float_1 = 33.4\n",
    "(iv) tuple_1 = (1,2,3,4,5,\"rishi\")\n"
   ]
  },
  {
   "cell_type": "code",
   "execution_count": null,
   "id": "b65a2e0d-835f-4398-948d-ae3fc9775353",
   "metadata": {},
   "outputs": [],
   "source": [
    "QUESTION 2 :\n",
    "    \n",
    "(i) str\n",
    "(ii) str\n",
    "(iii) list\n",
    "(iv) int"
   ]
  },
  {
   "cell_type": "code",
   "execution_count": null,
   "id": "9f97a495-4172-49ee-b288-12a40f5883c9",
   "metadata": {},
   "outputs": [],
   "source": [
    "QUESTION 4 :\n",
    "    \n",
    "l=[1,2,3,\"rishi\",True,88.45,(3,4,5),\"upadhyay\",False,{}]\n",
    "for i in l:\n",
    "    print(i,\" \",type(i))"
   ]
  },
  {
   "cell_type": "code",
   "execution_count": null,
   "id": "b2fad3c8-d849-4196-8a77-af3ed438801a",
   "metadata": {},
   "outputs": [],
   "source": [
    "QUESTION 6 :\n",
    "\n",
    "l=list(range(1,26))\n",
    "print(l)\n",
    "for i in l:\n",
    "    if i%3==0:\n",
    "        print(i,\" \",\"ELEMENT IS DIVISIBLE BY 3\")\n",
    "    else:\n",
    "        print(i,\" \",\"ELEMENT IS NOT DIVISIBLE BY 3\")"
   ]
  },
  {
   "cell_type": "code",
   "execution_count": null,
   "id": "e183ce3c-e337-43df-880d-a3e6facc014a",
   "metadata": {},
   "outputs": [],
   "source": [
    "QUESTION 7 : \n",
    "    \n",
    "MUTABLE DATA TYPES-> in these type of data types we can easily modify the value whenever we want.\n",
    "                      for eg : list,"
   ]
  }
 ],
 "metadata": {
  "kernelspec": {
   "display_name": "Python 3 (ipykernel)",
   "language": "python",
   "name": "python3"
  },
  "language_info": {
   "codemirror_mode": {
    "name": "ipython",
    "version": 3
   },
   "file_extension": ".py",
   "mimetype": "text/x-python",
   "name": "python",
   "nbconvert_exporter": "python",
   "pygments_lexer": "ipython3",
   "version": "3.10.8"
  }
 },
 "nbformat": 4,
 "nbformat_minor": 5
}

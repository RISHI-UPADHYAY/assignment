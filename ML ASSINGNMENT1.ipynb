{
 "cells": [
  {
   "cell_type": "markdown",
   "id": "deea5d76-c961-4b56-96fa-f8412f9c7a0c",
   "metadata": {},
   "source": [
    "ML ASSIGNMENT 1"
   ]
  },
  {
   "cell_type": "code",
   "execution_count": null,
   "id": "e1c142f0-0166-48b7-822e-d68476be5f16",
   "metadata": {},
   "outputs": [],
   "source": [
    "QUESTION 1 :\n",
    "    \n",
    "(i) AI invovles using machines to do things that traditionally requires human intelligence.\n",
    "(ii) ML is a type of AI that allows software applications to become more accurate at predicting outcomes.\n",
    "(iii) DL is a method that teaches computers to process data in a way that is inspired by the human brain."
   ]
  },
  {
   "cell_type": "code",
   "execution_count": null,
   "id": "76f3e076-1374-4c39-ad2b-c02710ebf0c5",
   "metadata": {},
   "outputs": [],
   "source": [
    "QUESTION 2 :\n",
    "    \n",
    "Supervised learning is a subcategory of ML and AI . It is defined by its use of labeled datasets to train algorithms that predict outcomes.\n",
    "EXAMPLE : Deciding the possibility of pass or fail on the basis of number of hours played and number of hours studied by a student."
   ]
  },
  {
   "cell_type": "code",
   "execution_count": null,
   "id": "bbbcd237-e692-4dec-8bc9-128fd6061992",
   "metadata": {},
   "outputs": [],
   "source": [
    "QUESTION 3 :\n",
    "    \n",
    "Unsupervised Learning uses machine learning algorithms to analyze and cluster unlabeled datasets.\n",
    "Example : Customer segmentation"
   ]
  },
  {
   "cell_type": "code",
   "execution_count": null,
   "id": "e8d4e83d-18b3-4bcc-91a1-f2a78fa16e57",
   "metadata": {},
   "outputs": [],
   "source": [
    "QUESTION 4 :\n",
    "    \n",
    "AI is basically the training of your machine to mimic human brain and its thinking capabilities while ML is an application or subset of AI while DL is\n",
    "basically a sub part of broader family of ML which makes use of Neural Networks to mimic human brain while DS is the study of data to extract \n",
    "meaningful insights for business."
   ]
  },
  {
   "cell_type": "code",
   "execution_count": null,
   "id": "15575a82-90da-4466-b024-d410d53e5a46",
   "metadata": {},
   "outputs": [],
   "source": [
    "QUESTION 5 :\n",
    "    \n",
    "In Supervised Learning output feature of the dataset can be predicted based on classification or regression while in Unsupervised Learning there is a \n",
    "cluster of data of same category while Semi Supervised Learning is the combination of SUPERVISED and UNSUPERVISED LEARNING."
   ]
  },
  {
   "cell_type": "code",
   "execution_count": null,
   "id": "f502d8cc-6962-4a7b-90e5-4d6906f79d61",
   "metadata": {},
   "outputs": [],
   "source": [
    "QUESTION 6 :\n",
    "    \n",
    "Basically dataset is divided into 3 categories Training dataset , Validation dataset and Test dataset.\n",
    "Training dataset : In this dataset we train our models.\n",
    "Validation dataset : In this dataset we do hyper tuning of our models.\n",
    "Test dataset : In this dataset we test our models."
   ]
  },
  {
   "cell_type": "code",
   "execution_count": null,
   "id": "4e38dab8-7c66-4489-94ed-ce060e915666",
   "metadata": {},
   "outputs": [],
   "source": [
    "QUESTION 7 :\n",
    "    \n",
    "In anomaly detection Unsupervised learning assign each data point a score instead of a label."
   ]
  },
  {
   "cell_type": "code",
   "execution_count": null,
   "id": "73b2176d-cec3-475c-bd89-6a60d29c547e",
   "metadata": {},
   "outputs": [],
   "source": [
    "QUESTION 8 :\n",
    "    \n",
    "Some commonly used Supervised Learning Algorithms are decision tree , logistic regression , linear regression and support vector machine.\n",
    "Some commonly used Unsupervised Learning Algorithms are k means clustering , hierarchical clustering and apriori algorithm."
   ]
  }
 ],
 "metadata": {
  "kernelspec": {
   "display_name": "Python 3 (ipykernel)",
   "language": "python",
   "name": "python3"
  },
  "language_info": {
   "codemirror_mode": {
    "name": "ipython",
    "version": 3
   },
   "file_extension": ".py",
   "mimetype": "text/x-python",
   "name": "python",
   "nbconvert_exporter": "python",
   "pygments_lexer": "ipython3",
   "version": "3.10.8"
  }
 },
 "nbformat": 4,
 "nbformat_minor": 5
}

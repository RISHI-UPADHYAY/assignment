{
 "cells": [
  {
   "cell_type": "markdown",
   "id": "b249e481-f5af-45fb-80be-6aba43f401f4",
   "metadata": {},
   "source": [
    "CLUSTERING 1"
   ]
  },
  {
   "cell_type": "code",
   "execution_count": null,
   "id": "f01facf8-6000-4386-91dd-28d8e383b192",
   "metadata": {},
   "outputs": [],
   "source": [
    "ANSWER 1 :\n",
    "    \n",
    "The different types of clustering algorithms are as follows :\n",
    "(i) K means clustering\n",
    "(ii) Hierarichal clustering\n",
    "(iii) DBScan Clustering\n",
    "\n",
    "In K means clustering we have to initialize some K centroids while it is not required in Hierarichal clustering.\n",
    "While DBScan clustering is suitable for non linear clustering."
   ]
  },
  {
   "cell_type": "code",
   "execution_count": null,
   "id": "21719558-e1bb-4bf1-9074-4ba6e7f0dc47",
   "metadata": {},
   "outputs": [],
   "source": [
    "ANSWER 2 :\n",
    "    \n",
    "K means clustering is an Unsupervised Machine Learning Clustering Algorithm . Which makes the clusters of the data points of similar interest by using \n",
    "K centroids technique .\n",
    "Working of Kmeans Algorithm :\n",
    "Step1 -> We have to initialize some K centroids .\n",
    "Step2 -> Points that are nearest to the centroids we need to group them.\n",
    "Step3 -> Move the centroids by calculating the mean ."
   ]
  },
  {
   "cell_type": "code",
   "execution_count": null,
   "id": "f968b0c0-c645-4b74-a7a9-b2ce0a878687",
   "metadata": {},
   "outputs": [],
   "source": [
    "ANSWER 3 :\n",
    "    \n",
    "One of the main advantages of K-means clustering is its simplicity and efficiency. It is easy to implement and can quickly process large datasets. \n",
    "However, K-means clustering has some disadvantages, such as its sensitivity to outliers and the need to specify the number of clusters (K) in advance."
   ]
  },
  {
   "cell_type": "code",
   "execution_count": null,
   "id": "b0f32d46-8b4f-47f5-bcf6-feeb96479ae0",
   "metadata": {},
   "outputs": [],
   "source": [
    "ANSWER 4 :\n",
    "    \n",
    "The silhouette coefficient may provide a more objective means to determine the optimal number of clusters. This is done by simply calculating the \n",
    "silhouette coefficient over a range of k, & identifying the peak as optimum K."
   ]
  },
  {
   "cell_type": "code",
   "execution_count": null,
   "id": "4e00a6bc-a259-435f-b118-968dd66a2338",
   "metadata": {},
   "outputs": [],
   "source": [
    "ANSWER 5 :\n",
    "    \n",
    "KMeans is used across many fields in a wide variety of use cases; some examples of clustering use cases include customer segmentation, fraud detection,\n",
    "predicting account attrition, targeting client incentives, cybercrime identification, and delivery route optimization."
   ]
  },
  {
   "cell_type": "code",
   "execution_count": null,
   "id": "5cb7fb6e-22c4-46ba-9aee-ab12acf66335",
   "metadata": {},
   "outputs": [],
   "source": [
    "ANSWER 6 :\n",
    "    \n",
    "nterpreting the meaning of k-means clusters boils down to characterizing the clusters. A Parallel Coordinates Plot allows us to see how individual data\n",
    "points sit across all variables. By looking at how the values for each variable compare across clusters, we can get a sense of what each cluster \n",
    "represents."
   ]
  },
  {
   "cell_type": "code",
   "execution_count": null,
   "id": "84d24d2b-989b-4830-9017-2d0e88671160",
   "metadata": {},
   "outputs": [],
   "source": [
    "ANSWER 7 :\n",
    "    \n",
    "One of the main drawbacks of K-means clustering is that you have to specify the number of clusters (k) beforehand. This can be tricky, as choosing a \n",
    "wrong valuecan lead to poor results. To find the optimal k, you can use different methods, such as the elbow method, the silhouette method, or the gap\n",
    "statisticmethod."
   ]
  }
 ],
 "metadata": {
  "kernelspec": {
   "display_name": "Python 3 (ipykernel)",
   "language": "python",
   "name": "python3"
  },
  "language_info": {
   "codemirror_mode": {
    "name": "ipython",
    "version": 3
   },
   "file_extension": ".py",
   "mimetype": "text/x-python",
   "name": "python",
   "nbconvert_exporter": "python",
   "pygments_lexer": "ipython3",
   "version": "3.10.8"
  }
 },
 "nbformat": 4,
 "nbformat_minor": 5
}

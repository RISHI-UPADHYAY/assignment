{
 "cells": [
  {
   "cell_type": "markdown",
   "id": "d8074067-c3d5-4271-9821-6b8e05c2b0b1",
   "metadata": {},
   "source": [
    "OOPS ASSIGNMENT 1"
   ]
  },
  {
   "cell_type": "code",
   "execution_count": null,
   "id": "6db715e4-b1fb-4052-885f-e5319d4b7589",
   "metadata": {},
   "outputs": [],
   "source": [
    "QUESTION 1 :\n",
    "    \n",
    "An object is simply a collection of data (variables) and methods (functions). Similarly, a class is a blueprint for that object.\n",
    "\n",
    "class vehicle:\n",
    "    def __init__(self,name_of_vehicle,max_speed,average_of_vehicle):\n",
    "        self.name_of_vehicle = name_of_vehicle\n",
    "        self.max_speed = max_speed\n",
    "        self.average_of_vehicle = average_of_vehicle\n",
    "v = vehicle(\"INNOVA\" ,150 , 60)   #object"
   ]
  },
  {
   "cell_type": "code",
   "execution_count": null,
   "id": "2c0ba4bd-23e1-4867-a572-c326e7d07b1d",
   "metadata": {},
   "outputs": [],
   "source": [
    "QUESTION 2 :\n",
    "    \n",
    "THE four pillars of OOPS are : encapsulation, abstraction, inheritance, and polymorphism."
   ]
  },
  {
   "cell_type": "code",
   "execution_count": null,
   "id": "56f215a2-c8d6-44a2-aa25-d9d936b4487e",
   "metadata": {},
   "outputs": [],
   "source": [
    "QUESTION 3 :\n",
    "    \n",
    "The __init__ () function is used to take the input from the user . \n",
    "class vehicle:\n",
    "    def __init__(self,name_of_vehicle,max_speed,average_of_vehicle):\n",
    "        self.name_of_vehicle = name_of_vehicle\n",
    "        self.max_speed = max_speed\n",
    "        self.average_of_vehicle = average_of_vehicle\n",
    "v = vehicle(\"INNOVA\" ,150 , 60)   #object"
   ]
  },
  {
   "cell_type": "code",
   "execution_count": null,
   "id": "42fb7a52-81c2-4dc8-b782-f6b9a95190da",
   "metadata": {},
   "outputs": [],
   "source": [
    "QUESTION 4 :\n",
    "    \n",
    "self in OOPS is used to bind the instances with the class ."
   ]
  },
  {
   "cell_type": "code",
   "execution_count": null,
   "id": "49422c31-f57a-407d-b19f-899c3e27adc8",
   "metadata": {},
   "outputs": [],
   "source": [
    "QUESTION 5 :\n",
    "    \n",
    "Inheritance is a mechanism in which one class acquires the property of another class. "
   ]
  }
 ],
 "metadata": {
  "kernelspec": {
   "display_name": "Python 3 (ipykernel)",
   "language": "python",
   "name": "python3"
  },
  "language_info": {
   "codemirror_mode": {
    "name": "ipython",
    "version": 3
   },
   "file_extension": ".py",
   "mimetype": "text/x-python",
   "name": "python",
   "nbconvert_exporter": "python",
   "pygments_lexer": "ipython3",
   "version": "3.10.8"
  }
 },
 "nbformat": 4,
 "nbformat_minor": 5
}

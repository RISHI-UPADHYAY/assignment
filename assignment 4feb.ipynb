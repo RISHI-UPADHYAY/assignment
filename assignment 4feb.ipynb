{
 "cells": [
  {
   "cell_type": "code",
   "execution_count": null,
   "id": "34c3683d-0c3b-4915-b338-d78982e000f2",
   "metadata": {},
   "outputs": [],
   "source": [
    "QUESTION 2 :\n",
    "l=[1, 2, 3, 4, 5, 6, 7, 8, 9, 10]\n",
    "list(map(lambda x : x**2,l))"
   ]
  },
  {
   "cell_type": "code",
   "execution_count": null,
   "id": "63f1dc5a-6112-49fa-81e5-a25bf0332983",
   "metadata": {},
   "outputs": [],
   "source": [
    "QUESTION 4 :\n",
    "\n",
    "from functools import reduce\n",
    "range_1=list(range(1,25))\n",
    "reduce(lambda x,y : x*y , range_1)"
   ]
  },
  {
   "cell_type": "code",
   "execution_count": null,
   "id": "de02f921-1377-4db6-bcd5-ce84ca159456",
   "metadata": {},
   "outputs": [],
   "source": [
    "QUESTION 5 :\n",
    "\n",
    "l = [2, 3, 6, 9, 27, 60, 90, 120, 55, 46]\n",
    "list(filter(lambda x :  x%2==0 and x%3==0 , l))"
   ]
  },
  {
   "cell_type": "code",
   "execution_count": null,
   "id": "1bc0f8fe-9985-4654-991d-6042d2c2d60b",
   "metadata": {},
   "outputs": [],
   "source": [
    "QUESTION 6 : \n",
    "    \n",
    "l=['python', 'php', 'aba', 'radar', 'level']\n",
    "list(filter(lambda x : x==x[::-1] , l))"
   ]
  }
 ],
 "metadata": {
  "kernelspec": {
   "display_name": "Python 3 (ipykernel)",
   "language": "python",
   "name": "python3"
  },
  "language_info": {
   "codemirror_mode": {
    "name": "ipython",
    "version": 3
   },
   "file_extension": ".py",
   "mimetype": "text/x-python",
   "name": "python",
   "nbconvert_exporter": "python",
   "pygments_lexer": "ipython3",
   "version": "3.10.8"
  }
 },
 "nbformat": 4,
 "nbformat_minor": 5
}

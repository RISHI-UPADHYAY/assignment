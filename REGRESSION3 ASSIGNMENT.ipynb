{
 "cells": [
  {
   "cell_type": "markdown",
   "id": "7fc15a0f-1b5e-4591-9fc2-d10955288e8d",
   "metadata": {},
   "source": [
    "REGRESSION 3"
   ]
  },
  {
   "cell_type": "code",
   "execution_count": null,
   "id": "4995dafb-dcc7-4ed1-b1b1-a234db2a011d",
   "metadata": {},
   "outputs": [],
   "source": [
    "Question 1 :\n",
    "    \n",
    "Ridge regression is a model tuning method that is used to analyse any data that suffers from multicollinearity . This method performs L2 \n",
    "regularization . \n",
    "When the issue of multicollinearity occurs , leat-squared are unbiased and variances are large , this results in predicted values being \n",
    "far away from the actual values."
   ]
  },
  {
   "cell_type": "code",
   "execution_count": null,
   "id": "b96edf80-a68b-45e5-ab83-7b3f4af8a0b0",
   "metadata": {},
   "outputs": [],
   "source": [
    "Question 2 :\n",
    "    \n",
    "The assumptions of ridge regression are same as that of linear regression : linearity , constant variance and independence ."
   ]
  },
  {
   "cell_type": "code",
   "execution_count": null,
   "id": "aedbd447-c0fd-4878-a045-dbad4a65ebd5",
   "metadata": {},
   "outputs": [],
   "source": [
    "Question 4 :\n",
    "    \n",
    "YES , we can use ridge regression for feature selection while fitting the model . We can do it by reducing the size of coefficients instead\n",
    "of setting them equal to zero . "
   ]
  },
  {
   "cell_type": "code",
   "execution_count": null,
   "id": "11cbdb80-9de6-49f7-a0f8-7afb31957b9f",
   "metadata": {},
   "outputs": [],
   "source": [
    "Question 5 :\n",
    "    \n",
    "Ridge regression aims at reducing the standard error by adding some bias in the estimates of the regression . "
   ]
  },
  {
   "cell_type": "code",
   "execution_count": null,
   "id": "f038f4eb-c4b4-418a-aa9e-89993a566ad0",
   "metadata": {},
   "outputs": [],
   "source": [
    "Question 6 :\n",
    "    \n",
    "YES , ridge regression can handle both categorical and continuous independent variables . "
   ]
  },
  {
   "cell_type": "code",
   "execution_count": null,
   "id": "7f537652-bafd-44a8-80f9-b962e1cbdb03",
   "metadata": {},
   "outputs": [],
   "source": [
    "Question 7 :\n",
    "    \n",
    "A positive coefficient indicates that as the value of the independent variable increases , the mean of the dependent variablealso tends to\n",
    "increase ."
   ]
  },
  {
   "cell_type": "code",
   "execution_count": null,
   "id": "37efe4f0-f6b9-4a11-a12a-0fe855f3374e",
   "metadata": {},
   "outputs": [],
   "source": [
    "Question 8 :\n",
    "    \n",
    "YES , the ridge regression technique can be used to predict time-series."
   ]
  }
 ],
 "metadata": {
  "kernelspec": {
   "display_name": "Python 3 (ipykernel)",
   "language": "python",
   "name": "python3"
  },
  "language_info": {
   "codemirror_mode": {
    "name": "ipython",
    "version": 3
   },
   "file_extension": ".py",
   "mimetype": "text/x-python",
   "name": "python",
   "nbconvert_exporter": "python",
   "pygments_lexer": "ipython3",
   "version": "3.10.8"
  }
 },
 "nbformat": 4,
 "nbformat_minor": 5
}

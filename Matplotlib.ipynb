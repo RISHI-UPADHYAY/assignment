{
 "cells": [
  {
   "cell_type": "markdown",
   "id": "40428fa8-4b25-4857-a4ec-42f0de7236af",
   "metadata": {},
   "source": [
    "MATPLOTLIB"
   ]
  },
  {
   "cell_type": "code",
   "execution_count": null,
   "id": "45d062df-4cbd-411b-b902-dc0df14c2eb8",
   "metadata": {},
   "outputs": [],
   "source": [
    "QUESTION 1 :\n",
    "    \n",
    "Matplotlib is a comprehensive  library for creating static , animated and interactive visualizations in python . We use it to create\n",
    "quality plots .\n",
    "(i) Scatter plot\n",
    "(ii) Bar plot\n",
    "(iii) Hist plot\n",
    "(iv) Box plot\n",
    "(v) Pie plot"
   ]
  },
  {
   "cell_type": "code",
   "execution_count": null,
   "id": "01a39a15-dfe3-44d0-a4fc-a523a8487924",
   "metadata": {},
   "outputs": [],
   "source": [
    "QUESTION 2 :\n",
    "\n",
    "A scatter plot uses dots to represent values for two different numeric variables .\n",
    "import numpy as np\n",
    "np.random.seed(3)\n",
    "x = 3 + np.random.normal(0, 2, 50)\n",
    "y = 3 + np.random.normal(0, 2, len(x))\n",
    "import matplotlib.pyplot as plt\n",
    "plt.scatter()\n",
    "We cannnot add xlabel , ylabel and title to scatter plot because it does not have any such arguments ."
   ]
  },
  {
   "cell_type": "code",
   "execution_count": null,
   "id": "cba5ed32-fa8c-4626-a815-bb1cce5e5853",
   "metadata": {},
   "outputs": [],
   "source": [
    "QUESTION 4 :\n",
    "    \n",
    "A bar plot is a graph that represents the category of data with rectangular bars with lengths and heights that is proportional to the values\n",
    "which they represent . It is used to show a distribution of data points or perform a comparison of metric values across different subgroups \n",
    "of our data .\n",
    "\n",
    "import numpy as np\n",
    "import matplotlib.pyplot as plt\n",
    "company = np.array([\"Apple\", \"Microsoft\", \"Google\", \"AMD\"])\n",
    "profit = np.array([3000, 8000, 1000, 10000])\n",
    "bar_plot = plt.bar(company,profit)\n",
    "horizontal_bar_plot = plt.barh(company,profit)"
   ]
  },
  {
   "cell_type": "code",
   "execution_count": null,
   "id": "809c98e9-996a-4e4e-b7d7-6f05d05e44f0",
   "metadata": {},
   "outputs": [],
   "source": [
    "QUESTION 5 :\n",
    "    \n",
    "A boxplot is a graph that gives a visual indication of how a data sets mean , median , mode , minimum , maximum and outlier values are \n",
    "spread out and compare to each other .\n",
    "\n",
    "import numpy as np\n",
    "import matplotlib.pyplot as plt\n",
    "box1 = np.random.normal(100, 10, 200)\n",
    "box2 = np.random.normal(90, 20, 200)\n",
    "plt.boxplot(box1)\n",
    "plt.boxplot(box2)"
   ]
  }
 ],
 "metadata": {
  "kernelspec": {
   "display_name": "Python 3 (ipykernel)",
   "language": "python",
   "name": "python3"
  },
  "language_info": {
   "codemirror_mode": {
    "name": "ipython",
    "version": 3
   },
   "file_extension": ".py",
   "mimetype": "text/x-python",
   "name": "python",
   "nbconvert_exporter": "python",
   "pygments_lexer": "ipython3",
   "version": "3.10.8"
  }
 },
 "nbformat": 4,
 "nbformat_minor": 5
}

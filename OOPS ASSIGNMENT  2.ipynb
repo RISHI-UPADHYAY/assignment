{
 "cells": [
  {
   "cell_type": "markdown",
   "id": "45507504-10fe-4d00-b11c-95c713294077",
   "metadata": {},
   "source": [
    "OOPS ASSIGNMENT 2"
   ]
  },
  {
   "cell_type": "code",
   "execution_count": null,
   "id": "2c82970c-40dc-466f-9f07-5d7d26d41f7f",
   "metadata": {},
   "outputs": [],
   "source": [
    "QUESTION 1 :\n",
    "    \n",
    "Abstraction involves hiding an object's implementation details and only showing the user the information that is absolutely necessary.\n"
   ]
  },
  {
   "cell_type": "code",
   "execution_count": null,
   "id": "91425dc9-789f-48c7-8294-489692266a9c",
   "metadata": {},
   "outputs": [],
   "source": [
    "QUESTION 2 :\n",
    "    \n",
    "Abstraction is the method of hiding the unwanted information. Whereas encapsulation is a method to hide the data in a single entity or unit along with\n",
    "a method to protect information from outside. "
   ]
  },
  {
   "cell_type": "code",
   "execution_count": null,
   "id": "3d40d19a-b4fa-4a02-9f4d-b64bcb4456dd",
   "metadata": {},
   "outputs": [],
   "source": [
    "QUESTION 3 :\n",
    "    \n",
    "The 'abc' module in the Python library provides the infrastructure for defining custom abstract base classes. Abstract class cannot be instantiated in\n",
    "python. An Abstract method can be call by its subclasses."
   ]
  },
  {
   "cell_type": "code",
   "execution_count": null,
   "id": "f90f8302-91b8-4e12-9c86-d4b8b5086b4a",
   "metadata": {},
   "outputs": [],
   "source": [
    "QUESTION 4 :\n",
    "    \n",
    "We can achieve data abstraction through Abstract classes and interfaces."
   ]
  },
  {
   "cell_type": "code",
   "execution_count": null,
   "id": "30b063e2-02b2-4bab-a71c-adae493893fa",
   "metadata": {},
   "outputs": [],
   "source": [
    "QUESTION 5 :\n",
    "    \n",
    "Abstract classes cannot be instantiated, but they can be subclassed. When an abstract class is subclassed, the subclass usually provides implementation\n",
    "for all of the abstract methods in its parent class."
   ]
  }
 ],
 "metadata": {
  "kernelspec": {
   "display_name": "Python 3 (ipykernel)",
   "language": "python",
   "name": "python3"
  },
  "language_info": {
   "codemirror_mode": {
    "name": "ipython",
    "version": 3
   },
   "file_extension": ".py",
   "mimetype": "text/x-python",
   "name": "python",
   "nbconvert_exporter": "python",
   "pygments_lexer": "ipython3",
   "version": "3.10.8"
  }
 },
 "nbformat": 4,
 "nbformat_minor": 5
}

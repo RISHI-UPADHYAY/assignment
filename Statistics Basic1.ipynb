{
 "cells": [
  {
   "cell_type": "markdown",
   "id": "6796c723-17f8-4f64-9b44-074fae989378",
   "metadata": {},
   "source": [
    "STATISTICS BASIC 1"
   ]
  },
  {
   "cell_type": "code",
   "execution_count": null,
   "id": "5733f00c-5e62-4611-9f02-a57ce3efc993",
   "metadata": {},
   "outputs": [],
   "source": [
    "QUESTION 1 :\n",
    "    \n",
    "Statistics is the science of collecting , organizing and analyzing data ."
   ]
  },
  {
   "cell_type": "code",
   "execution_count": null,
   "id": "7f1ea6f9-7533-4961-b5c9-d7203e2bc1e0",
   "metadata": {},
   "outputs": [],
   "source": [
    "QUESTION 2 :\n",
    "    \n",
    "There are two types of statistics which are as follows\n",
    "(i) Descriptive Statistics - It consists of organizing and summarising data\n",
    "(ii) Inferential Statistics - It consist of using data you have formed to make conclusion ."
   ]
  },
  {
   "cell_type": "code",
   "execution_count": null,
   "id": "fc0d9b8a-93ba-4a3c-975b-610ccc16a638",
   "metadata": {},
   "outputs": [],
   "source": [
    "QUESTION 3 :\n",
    "    \n",
    "Data is divided into two categories which are as follows\n",
    "1. Quantitative Data - This type contains numeric data . For Example - height of students , weight of students , student_id etc\n",
    "2. Qualitative Data - This type contains categorical data . For Example - Gender , Blood Group , Customer Feedback etc."
   ]
  },
  {
   "cell_type": "code",
   "execution_count": null,
   "id": "6274a416-c044-4929-b2e8-22d1f278d01d",
   "metadata": {},
   "outputs": [],
   "source": [
    "QUESTION 4 :\n",
    "    \n",
    "(i) Qualitative\n",
    "(ii) Qualitative\n",
    "(iii) Quantitative\n",
    "(iv) Quantitative"
   ]
  },
  {
   "cell_type": "code",
   "execution_count": null,
   "id": "38eca92b-0c05-48a9-abef-258ce2645fbb",
   "metadata": {},
   "outputs": [],
   "source": [
    "QUESTION 5 :\n",
    "    \n",
    "There re four levels of analyzing a data which are as follows\n",
    "(i) Nominal\n",
    "(ii) Ordinal\n",
    "(iii) Ratio\n",
    "(iv)  Interval"
   ]
  },
  {
   "cell_type": "code",
   "execution_count": null,
   "id": "56532467-4a22-4526-b6e3-99f90199fbb3",
   "metadata": {},
   "outputs": [],
   "source": [
    "QUESTION 7 :\n",
    "    \n",
    "In nominal data type order of data does not matter while in ordinal data type order of data matters ."
   ]
  },
  {
   "cell_type": "code",
   "execution_count": null,
   "id": "54ca62e6-2421-4244-8be5-3737875381d8",
   "metadata": {},
   "outputs": [],
   "source": [
    "QUESTION 8 :\n",
    "    \n",
    "Histogram can be used to display data in terms of range . "
   ]
  }
 ],
 "metadata": {
  "kernelspec": {
   "display_name": "Python 3 (ipykernel)",
   "language": "python",
   "name": "python3"
  },
  "language_info": {
   "codemirror_mode": {
    "name": "ipython",
    "version": 3
   },
   "file_extension": ".py",
   "mimetype": "text/x-python",
   "name": "python",
   "nbconvert_exporter": "python",
   "pygments_lexer": "ipython3",
   "version": "3.10.8"
  }
 },
 "nbformat": 4,
 "nbformat_minor": 5
}

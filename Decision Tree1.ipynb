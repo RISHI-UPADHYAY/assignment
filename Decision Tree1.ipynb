{
 "cells": [
  {
   "cell_type": "markdown",
   "id": "0c2a7478-eff6-4bea-828d-cda10d8b0161",
   "metadata": {},
   "source": [
    "DECISION TREE 1"
   ]
  },
  {
   "cell_type": "code",
   "execution_count": null,
   "id": "8a92b5cd-b225-47f1-a5a2-a4760340a02a",
   "metadata": {},
   "outputs": [],
   "source": [
    "QUESTION 1 :\n",
    "    \n",
    "Decision trees is a type of supervised machine learning algorithm that is used by the Train Using AutoML tool and classifies or regresses the data \n",
    "using true or false answers to certain questions. The resulting structure, when visualized, is in the form of a tree with different types of nodes—root\n",
    "internal, and leaf."
   ]
  },
  {
   "cell_type": "code",
   "execution_count": null,
   "id": "e2f27db8-d0a8-482b-a36f-d106b129b3b3",
   "metadata": {},
   "outputs": [],
   "source": [
    "QUESTION 2 :\n",
    "    \n",
    "1. Root Node:The first split which decides the entire population or sample data should further get divided into two or more homogeneous sets. \n",
    "In our case, the Outlook node.\n",
    "2. Splitting:It is a process of dividing a node into two or more sub-nodes.\n",
    "3. Decision Node:This node decides whether/when a sub-node splits into further sub-nodes or not. Here we have, Outlook node, Humidity node, and Windy\n",
    "node.\n",
    "4. Leaf:Terminal Node that predicts the outcome (categorical or continuous value). The coloured nodes, i.e., Yes and No nodes, are the leaves."
   ]
  },
  {
   "cell_type": "code",
   "execution_count": null,
   "id": "6c831d4a-c50a-42e2-964d-aaf5037d787b",
   "metadata": {},
   "outputs": [],
   "source": [
    "QUESTION 3 :\n",
    "    \n",
    "Step 1: Define explanatory and target variables\n",
    "Step 2: Split the dataset into training and testing sets\n",
    "Step 3: Normalize the data for numerical stability\n",
    "Step 4: Fit a logistic regression model to the training data\n",
    "Step 5: Make predictions on the testing data\n",
    "Step 6: Calculate the accuracy score by comparing the actual values and predicted values."
   ]
  },
  {
   "cell_type": "code",
   "execution_count": null,
   "id": "c01a9aec-e862-4b56-8c0e-b52f4aebe632",
   "metadata": {},
   "outputs": [],
   "source": [
    "QUESTION 4 :\n",
    "    \n",
    "Every decision that we make at internal node, it will create a hyperplane – in other words, corresponding to every decision / splitting of the data \n",
    "set, we will have a hyperplane. All of your hyperplanes are axis-parallel – they are parallel to either X-axis or Y-axis."
   ]
  },
  {
   "cell_type": "code",
   "execution_count": null,
   "id": "70f22dac-16ce-4e16-8916-9749aea5c4fd",
   "metadata": {},
   "outputs": [],
   "source": [
    "QUESTION 5:\n",
    "    \n",
    "A Confusion matrix is an N x N matrix used for evaluating the performance of a classification model, where N is the total number of target classes. \n",
    "The matrix compares the actual target values with those predicted by the machine learning model."
   ]
  },
  {
   "cell_type": "code",
   "execution_count": null,
   "id": "fa1b7de6-9e49-4ef5-b793-1dca74d785f2",
   "metadata": {},
   "outputs": [],
   "source": [
    "QUESTION 8 :\n",
    "    \n",
    "For example, we may have an imbalanced multiclass classification problem where the majority class is the negative class, but there are two positive \n",
    "minority classes: class 1 and class 2. Precision can quantify the ratio of correct predictions across both positive classes."
   ]
  },
  {
   "cell_type": "code",
   "execution_count": null,
   "id": "ca6592a8-7a30-455d-a023-359ed50d08d8",
   "metadata": {},
   "outputs": [],
   "source": [
    "QUESTION 9 :\n",
    "    \n",
    "For example, for our dataset, we can consider that achieving a high recall is more important than getting a high precision – we would like to detect\n",
    "as many heart patients as possible."
   ]
  }
 ],
 "metadata": {
  "kernelspec": {
   "display_name": "Python 3 (ipykernel)",
   "language": "python",
   "name": "python3"
  },
  "language_info": {
   "codemirror_mode": {
    "name": "ipython",
    "version": 3
   },
   "file_extension": ".py",
   "mimetype": "text/x-python",
   "name": "python",
   "nbconvert_exporter": "python",
   "pygments_lexer": "ipython3",
   "version": "3.10.8"
  }
 },
 "nbformat": 4,
 "nbformat_minor": 5
}

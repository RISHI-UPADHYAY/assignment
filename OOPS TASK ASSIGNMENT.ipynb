{
 "cells": [
  {
   "cell_type": "code",
   "execution_count": null,
   "id": "10595a70-9a22-460f-85aa-4a5d4603b045",
   "metadata": {},
   "outputs": [],
   "source": [
    "QUESTION 1 :\n",
    "\n",
    "class vehicle:\n",
    "    def __init__(self,name_of_vehicle,max_speed,average_of_vehicle):\n",
    "        self.name_of_vehicle = name_of_vehicle\n",
    "        self.max_speed = max_speed\n",
    "        self.average_of_vehicle = average_of_vehicle\n",
    "        \n",
    "        def return_vehicle_details(self):\n",
    "            return self.name_of_vehicle , self.max_speed , self.average_of_vehicle  "
   ]
  },
  {
   "cell_type": "code",
   "execution_count": null,
   "id": "611ff057-4b45-4038-9ceb-62f2661a1ae4",
   "metadata": {},
   "outputs": [],
   "source": [
    "QUESTION 2 :\n",
    "\n",
    "class child_car(vehicle):\n",
    "    \n",
    "    def seating_capacity(self,capacity):\n",
    "        self.capacity = capacity\n",
    "        return self.name_of_vehicle , self.capacity\n"
   ]
  },
  {
   "cell_type": "code",
   "execution_count": null,
   "id": "fcfd48d2-89a9-45a9-8994-01c7d7bfca05",
   "metadata": {},
   "outputs": [],
   "source": [
    "QUESTION 3 :\n",
    "\n",
    "class inheritance_1:\n",
    "    def test_inheritance_1(self):\n",
    "        return \"this is the example of test inheritance 1\"\n",
    "class inheritance_2:\n",
    "    def test_inheritance_2(self):\n",
    "        return \"this is the example of test inheritance 2\"\n",
    "class inheritance_3(inheritance_1,inheritance_2):\n",
    "    pass"
   ]
  },
  {
   "cell_type": "code",
   "execution_count": null,
   "id": "242d385e-e420-4ca9-bc44-1885074ebafb",
   "metadata": {},
   "outputs": [],
   "source": [
    "QUESTION 4 :\n",
    "    \n",
    "Getter: A method that allows you to access an attribute in a given class. \n",
    "Setter: A method that allows you to set or mutate the value of an attribute in a class.\n",
    "\n",
    "class pwskills:\n",
    "    def __init__(self,name,roll_no,email):\n",
    "        self.name = name\n",
    "        self.roll_no = roll_no\n",
    "        self.email = email\n",
    "    def get_student_details:\n",
    "            return self.name , self.roll_no , self.email"
   ]
  },
  {
   "cell_type": "code",
   "execution_count": null,
   "id": "1745e433-649e-4c47-9796-d7a57f174361",
   "metadata": {},
   "outputs": [],
   "source": [
    "QUESTION 5 :\n",
    "    \n",
    "Method overriding allows you to redefine a method in a subclass or the derived class previously defined in its parent or the superclass.\n",
    "class Animal:\n",
    "    def Walk(self):\n",
    "        print('Hello, I am the parent class')\n",
    "class Dog(Animal):\n",
    "    def Walk(self):\n",
    "        print('Hello, I am the child class')\n",
    "        \n",
    "print('The method Walk here is overridden in the code')"
   ]
  }
 ],
 "metadata": {
  "kernelspec": {
   "display_name": "Python 3 (ipykernel)",
   "language": "python",
   "name": "python3"
  },
  "language_info": {
   "codemirror_mode": {
    "name": "ipython",
    "version": 3
   },
   "file_extension": ".py",
   "mimetype": "text/x-python",
   "name": "python",
   "nbconvert_exporter": "python",
   "pygments_lexer": "ipython3",
   "version": "3.10.8"
  }
 },
 "nbformat": 4,
 "nbformat_minor": 5
}
